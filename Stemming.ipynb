{
  "nbformat": 4,
  "nbformat_minor": 0,
  "metadata": {
    "colab": {
      "name": "Stemming.ipynb",
      "provenance": []
    },
    "kernelspec": {
      "name": "python3",
      "display_name": "Python 3"
    },
    "language_info": {
      "name": "python"
    }
  },
  "cells": [
    {
      "cell_type": "code",
      "metadata": {
        "id": "tNvGMapYNspZ"
      },
      "source": [
        "from nltk.stem import PorterStemmer\n",
        "from nltk.stem import LancasterStemmer"
      ],
      "execution_count": null,
      "outputs": []
    },
    {
      "cell_type": "code",
      "metadata": {
        "colab": {
          "base_uri": "https://localhost:8080/"
        },
        "id": "8Jgsou8aNxOw",
        "outputId": "0c751caa-763c-4753-98a3-c7659b802e91"
      },
      "source": [
        "porter = PorterStemmer()\n",
        "lancaster=LancasterStemmer()\n",
        "print(\"----------------------------------------------------\")\n",
        "print(\"Porter Stemmer\")\n",
        "print(porter.stem(\"running\"))\n",
        "print(porter.stem(\"playing\"))\n",
        "print(porter.stem(\"friendship\"))\n",
        "print(porter.stem(\"troubling\"))\n",
        "print(\"----------------------------------------------------\")\n",
        "print(\"Lancaster Stemmer\")\n",
        "print(lancaster.stem(\"running\"))\n",
        "print(lancaster.stem(\"playing\"))\n",
        "print(lancaster.stem(\"friendship\"))\n",
        "print(lancaster.stem(\"troubling\"))"
      ],
      "execution_count": null,
      "outputs": [
        {
          "output_type": "stream",
          "text": [
            "----------------------------------------------------\n",
            "Porter Stemmer\n",
            "run\n",
            "play\n",
            "friendship\n",
            "troubl\n",
            "----------------------------------------------------\n",
            "Lancaster Stemmer\n",
            "run\n",
            "play\n",
            "friend\n",
            "troubl\n"
          ],
          "name": "stdout"
        }
      ]
    },
    {
      "cell_type": "code",
      "metadata": {
        "id": "x9OyBqhAOb3M"
      },
      "source": [
        ""
      ],
      "execution_count": null,
      "outputs": []
    }
  ]
}