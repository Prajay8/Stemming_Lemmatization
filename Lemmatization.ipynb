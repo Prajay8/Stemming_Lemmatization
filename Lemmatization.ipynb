{
  "nbformat": 4,
  "nbformat_minor": 0,
  "metadata": {
    "colab": {
      "name": "Lemmatization.ipynb",
      "provenance": [],
      "collapsed_sections": []
    },
    "kernelspec": {
      "name": "python3",
      "display_name": "Python 3"
    },
    "language_info": {
      "name": "python"
    }
  },
  "cells": [
    {
      "cell_type": "code",
      "metadata": {
        "colab": {
          "base_uri": "https://localhost:8080/"
        },
        "id": "71iljLwCG3MO",
        "outputId": "1be79267-dced-447c-9d04-ca518654b385"
      },
      "source": [
        "import nltk\n",
        "from nltk.stem import WordNetLemmatizer\n",
        "nltk.download('punkt')\n",
        "nltk.download('wordnet')\n",
        "wnl = WordNetLemmatizer()\n",
        "\n",
        "sentence = \"He was running and eating at the same time. He has a bad habit of swimming after playing for long hours in the Sun.\"\n",
        "punctuations=\"?:!.,;\"\n",
        "sentence_words = nltk.word_tokenize(sentence)\n",
        "for word in sentence_words:\n",
        "    if word in punctuations:\n",
        "        sentence_words.remove(word)\n",
        "\n",
        "sentence_words\n",
        "print(\"{0:24}{1:24}\".format(\"Word\",\"Lemma\"))\n",
        "for word in sentence_words:\n",
        "    print (\"{0:24}{1:24}\".format(word,wnl.lemmatize(word, pos=\"v\")))"
      ],
      "execution_count": null,
      "outputs": [
        {
          "output_type": "stream",
          "text": [
            "[nltk_data] Downloading package punkt to /root/nltk_data...\n",
            "[nltk_data]   Package punkt is already up-to-date!\n",
            "[nltk_data] Downloading package wordnet to /root/nltk_data...\n",
            "[nltk_data]   Package wordnet is already up-to-date!\n",
            "Word                    Lemma                   \n",
            "He                      He                      \n",
            "was                     be                      \n",
            "running                 run                     \n",
            "and                     and                     \n",
            "eating                  eat                     \n",
            "at                      at                      \n",
            "the                     the                     \n",
            "same                    same                    \n",
            "time                    time                    \n",
            "He                      He                      \n",
            "has                     have                    \n",
            "a                       a                       \n",
            "bad                     bad                     \n",
            "habit                   habit                   \n",
            "of                      of                      \n",
            "swimming                swim                    \n",
            "after                   after                   \n",
            "playing                 play                    \n",
            "for                     for                     \n",
            "long                    long                    \n",
            "hours                   hours                   \n",
            "in                      in                      \n",
            "the                     the                     \n",
            "Sun                     Sun                     \n"
          ],
          "name": "stdout"
        }
      ]
    },
    {
      "cell_type": "code",
      "metadata": {
        "id": "ScOSk1-6HNB3"
      },
      "source": [
        ""
      ],
      "execution_count": null,
      "outputs": []
    }
  ]
}